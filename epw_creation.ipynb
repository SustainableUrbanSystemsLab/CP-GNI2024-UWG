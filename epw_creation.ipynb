{
 "cells": [
  {
   "cell_type": "code",
   "execution_count": null,
   "metadata": {},
   "outputs": [],
   "source": [
    "from epw import epw"
   ]
  },
  {
   "cell_type": "code",
   "execution_count": null,
   "metadata": {},
   "outputs": [],
   "source": [
    "import pandas as pd\n",
    "CRC_Data = pd.read_csv('CRC_REAL.csv')"
   ]
  },
  {
   "cell_type": "code",
   "execution_count": null,
   "metadata": {},
   "outputs": [],
   "source": [
    "new_column_names = [\"Hour\", \"Temperature\", \"Dew Point\", \"Humidity\", \"Wind\", \n",
    "                    \"Speed\", \"Gust\", \"Pressure\", \"Precip.Rate.\", \n",
    "                    \"Precip.Accum.\", \"UV\", \"Solar\"]\n",
    "CRC_Data.columns = new_column_names + [CRC_Data.columns[-1]]"
   ]
  },
  {
   "cell_type": "code",
   "execution_count": null,
   "metadata": {},
   "outputs": [],
   "source": [
    "for column in CRC_Data.columns:\n",
    "    if column not in [\"Hour\", \"Wind\", \"Date\"]:\n",
    "        CRC_Data[column] = CRC_Data[column].astype(str).str.replace(r'[^\\d.]', '', regex=True)"
   ]
  },
  {
   "cell_type": "code",
   "execution_count": null,
   "metadata": {},
   "outputs": [],
   "source": [
    "CRC_Data = CRC_Data.drop(index=[0, 1])\n",
    "CRC_Data = CRC_Data.reset_index(drop=True)\n"
   ]
  },
  {
   "cell_type": "code",
   "execution_count": null,
   "metadata": {},
   "outputs": [],
   "source": [
    "# Convert 'Temperature' column from Fahrenheit to Celsius\n",
    "CRC_Data['Temperature'] = pd.to_numeric(CRC_Data['Temperature'], errors='coerce')\n",
    "CRC_Data['Temperature'] = (CRC_Data['Temperature'] - 32) * 5.0 / 9.0\n",
    "\n",
    "# Convert 'Dew Point' column from Fahrenheit to Celsius\n",
    "CRC_Data['Dew Point'] = pd.to_numeric(CRC_Data['Dew Point'], errors='coerce')\n",
    "CRC_Data['Dew Point'] = (CRC_Data['Dew Point'] - 32) * 5.0 / 9.0\n",
    "\n",
    "# Define wind direction to degrees mapping\n",
    "wind_to_degrees = {\n",
    "    'North': 0,\n",
    "    'NNE': 22.5,\n",
    "    'NE': 45,\n",
    "    'ENE': 67.5,\n",
    "    'East': 90,\n",
    "    'ESE': 112.5,\n",
    "    'SE': 135,\n",
    "    'SSE': 157.5,\n",
    "    'South': 180,\n",
    "    'SSW': 202.5,\n",
    "    'SW': 225,\n",
    "    'WSW': 247.5,\n",
    "    'West': 270,\n",
    "    'WNW': 292.5,\n",
    "    'NW': 315,\n",
    "    'NNW': 337.5\n",
    "}\n",
    "\n",
    "# Convert 'Wind' column from directions to degrees\n",
    "CRC_Data['Wind'] = CRC_Data['Wind'].map(wind_to_degrees)\n",
    "\n",
    "# Convert 'Speed' column to numeric and handle non-numeric values\n",
    "CRC_Data['Speed'] = pd.to_numeric(CRC_Data['Speed'], errors='coerce')\n",
    "\n",
    "# Fill any NaN values in 'Speed' with 0 or drop them if necessary\n",
    "CRC_Data['Speed'] = CRC_Data['Speed'].fillna(0)  # Use .dropna() if you prefer to remove rows\n",
    "\n",
    "# Convert wind speed from m/s to km/h\n",
    "conversion_factor = 0.44704\n",
    "CRC_Data['Speed'] = CRC_Data['Speed'] * conversion_factor\n",
    "\n",
    "# Convert 'Pressure', 'Precip.Rate.', and 'Precip.Accum.' from inches to meters\n",
    "inch_to_meter = 0.0254\n",
    "CRC_Data['Precip.Rate.'] = pd.to_numeric(CRC_Data['Precip.Rate.'], errors='coerce') * inch_to_meter\n",
    "CRC_Data['Precip.Accum.'] = pd.to_numeric(CRC_Data['Precip.Accum.'], errors='coerce') * inch_to_meter"
   ]
  },
  {
   "cell_type": "code",
   "execution_count": null,
   "metadata": {},
   "outputs": [],
   "source": [
    "CRC_Data"
   ]
  },
  {
   "cell_type": "code",
   "execution_count": null,
   "metadata": {},
   "outputs": [],
   "source": [
    "testing = CRC_Data.copy()"
   ]
  },
  {
   "cell_type": "code",
   "execution_count": null,
   "metadata": {},
   "outputs": [],
   "source": [
    "testing['Datetime'] = pd.to_datetime(testing['Date'] + ' ' + testing['Hour'], format='%Y-%m-%d %I:%M %p', errors='coerce')\n",
    "\n",
    "testing['Year'] = testing['Datetime'].dt.year\n",
    "testing['Month'] = testing['Datetime'].dt.month\n",
    "testing['Day'] = testing['Datetime'].dt.day\n",
    "\n",
    "testing['Hour'] = testing['Datetime'].dt.hour\n",
    "\n",
    "testing['Hour'] = testing['Hour'] + 1"
   ]
  },
  {
   "cell_type": "code",
   "execution_count": null,
   "metadata": {},
   "outputs": [],
   "source": [
    "#set index as the date\n",
    "testing.set_index('Datetime', inplace=True)\n",
    "\n",
    "numeric_columns = ['Temperature', 'Dew Point', 'Wind', 'Speed', 'Pressure', 'Precip.Rate.', 'Precip.Accum.']\n",
    "for col in numeric_columns:\n",
    "    testing[col] = pd.to_numeric(testing[col], errors='coerce')\n",
    "    \n",
    "#these 4 kept disappearing\n",
    "for col in ['Humidity', 'Gust', 'UV', 'Solar']:\n",
    "    testing[col] = pd.to_numeric(testing[col], errors='coerce')\n",
    "\n",
    "# Resample by the specified length and calculate the average for each period\n",
    "resample_len = 1\n",
    "hourly_data = testing.resample(f'{resample_len}H').mean()\n",
    "\n",
    "full_date_range = pd.date_range(start=testing.index.min(), end=testing.index.max(), freq='H')\n",
    "full_date_range_df = pd.DataFrame(index=full_date_range)\n",
    "\n",
    "#left join\n",
    "hourly_data = full_date_range_df.join(hourly_data, how='left')\n",
    "\n",
    "# Fill NaNs with the mean of each column\n",
    "hourly_data.fillna(hourly_data.mean(), inplace=True)\n",
    "\n",
    "# Reset index to turn 'Datetime' back into a column\n",
    "hourly_data.reset_index(inplace=True)\n",
    "hourly_data.rename(columns={'index': 'Datetime'}, inplace=True)\n",
    "\n",
    "# Adjust the hour to start from 1 instead of 0\n",
    "hourly_data['Hour'] = hourly_data['Datetime'].dt.hour + 1\n",
    "\n",
    "# Add 'Date' column based on 'Datetime'\n",
    "hourly_data['Date'] = hourly_data['Datetime'].dt.date\n",
    "\n",
    "# Reorder columns if necessary\n",
    "columns_order = ['Datetime', 'Hour', 'Temperature', 'Dew Point', 'Humidity', 'Wind', 'Speed', 'Gust', 'Pressure', 'Precip.Rate.', 'Precip.Accum.', 'UV', 'Solar', 'Date']\n",
    "# Only include columns that are present in hourly_data\n",
    "columns_order = [col for col in columns_order if col in hourly_data.columns]\n",
    "\n",
    "# Reorder DataFrame\n",
    "hourly_data = hourly_data[columns_order]\n",
    "\n",
    "print(hourly_data.head())"
   ]
  },
  {
   "cell_type": "code",
   "execution_count": null,
   "metadata": {},
   "outputs": [],
   "source": [
    "hourly_data = hourly_data.round(1)\n",
    "hourly_data"
   ]
  },
  {
   "cell_type": "code",
   "execution_count": null,
   "metadata": {},
   "outputs": [],
   "source": [
    "a = epw()\n",
    "a.read('EPW_Files/USA_GA_Atlanta-Hartsfield-Jackson.Intl.AP.722190_TMY3.epw')\n",
    "test_df = a.dataframe\n",
    "comparison = a.dataframe"
   ]
  },
  {
   "cell_type": "code",
   "execution_count": null,
   "metadata": {},
   "outputs": [],
   "source": [
    "# Define the custom conversion function\n",
    "def convert_inhg_to_pa(series):\n",
    "    return series * 3386.39"
   ]
  },
  {
   "cell_type": "code",
   "execution_count": null,
   "metadata": {},
   "outputs": [],
   "source": [
    "test_df['Year'] = 2023\n",
    "test_df['Dry Bulb Temperature'] = hourly_data['Temperature']\n",
    "test_df['Dew Point Temperature'] = hourly_data['Dew Point']\n",
    "test_df['Relative Humidity'] = hourly_data['Humidity']#.astype(int)\n",
    "test_df['Wind Direction'] = hourly_data['Wind']\n",
    "test_df['Wind Speed'] = hourly_data['Speed']\n",
    "# Convert the 'Pressure_inHg' column to Pascals\n",
    "test_df['Atmospheric Station Pressure'] = hourly_data['Pressure'].apply(convert_inhg_to_pa)"
   ]
  },
  {
   "cell_type": "code",
   "execution_count": null,
   "metadata": {},
   "outputs": [],
   "source": [
    "id = 14\n",
    "\n",
    "print(test_df.columns[id])\n",
    "print(test_df.iloc[:,id])"
   ]
  },
  {
   "cell_type": "code",
   "execution_count": null,
   "metadata": {},
   "outputs": [],
   "source": [
    "test_df"
   ]
  },
  {
   "cell_type": "code",
   "execution_count": null,
   "metadata": {},
   "outputs": [],
   "source": [
    "a.write('Final_CRC.epw')"
   ]
  },
  {
   "cell_type": "code",
   "execution_count": null,
   "metadata": {},
   "outputs": [],
   "source": [
    "from uwg import UWG\n",
    "\n",
    "# Define the .epw, .uwg paths to create an uwg object.\n",
    "epw_path = \"EPW_Files/Final_CRC.epw\" # available in resources directory.\n",
    "\n",
    "# Initialize the UWG model by passing parameters as arguments, or relying on defaults\n",
    "model = UWG.from_param_args(epw_path=epw_path, bldheight=11, blddensity=0.2169, \n",
    "                                vertohor=0.8, charlength=125, sensanth=0.835,\n",
    "                                treecover=0.1028, grasscover=0.3084, vegstart=3, \n",
    "                                vegend=11, albveg=0.15, h_obs= 3, \n",
    "                                h_ubl1=700, windmin=7.339,\n",
    "                                zone='7', nday=365)\n",
    "\n",
    "#Campus Average:\n",
    "#Building Density: 21.69%, 0.2169\n",
    "#Grass Cover: 30.84%, 0.3084\n",
    "#Tree Cover: 10.28%, 0.1028\n",
    "\n",
    "#Total Vegetation: 41.11%\n",
    "\n",
    "model.generate()\n",
    "model.simulate()\n",
    "\n",
    "# Write the simulation result to a file.\n",
    "model.write_epw()\n"
   ]
  },
  {
   "cell_type": "code",
   "execution_count": null,
   "metadata": {},
   "outputs": [],
   "source": [
    "r = epw()\n",
    "r.read('EPW_Files/Final_CRC_UWG.epw')\n",
    "result_df = r.dataframe\n",
    "df_reset  = result_df.copy()\n",
    "\n",
    "# Step 1: Reset index to move it to a column\n",
    "df_reset = df_reset.reset_index()\n",
    "\n",
    "# Step 2: Shift the DataFrame to the right by 1 column\n",
    "df_shifted = df_reset.shift(1, axis=1)\n",
    "\n",
    "# Step 3: Drop the last column which is now full of NaNs\n",
    "df_shifted = df_shifted.iloc[:, :-1].drop(\"index\", axis = 1)\n",
    "df_shifted"
   ]
  },
  {
   "cell_type": "code",
   "execution_count": null,
   "metadata": {},
   "outputs": [],
   "source": [
    "import matplotlib.pyplot as plt\n",
    "\n",
    "\n",
    "hour = 6785\n",
    "\n",
    "df_plot = df_shifted[hour:hour+24]\n",
    "\n",
    "# Plot the temperature values for the hottest day\n",
    "plt.figure(figsize=(12, 6))\n",
    "plt.plot(df_shifted.index, df_shifted['Dry Bulb Temperature'], label='Dry Bulb Temperature', color='red')\n",
    "plt.xlabel('Time')\n",
    "plt.ylabel('Dry Bulb Temperature (°C)')\n",
    "plt.title(f'Dry Bulb Temperature on the Hottest Day: {df_shifted}')\n",
    "plt.legend()\n",
    "plt.grid(True)\n",
    "plt.show()"
   ]
  },
  {
   "cell_type": "code",
   "execution_count": null,
   "metadata": {},
   "outputs": [],
   "source": [
    "import pandas as pd\n",
    "import matplotlib.pyplot as plt\n",
    "\n",
    "# Assuming 'epw_df' is your EPW DataFrame and it has an 'Hour' column and a 'Dry Bulb Temperature' column\n",
    "\n",
    "# Step 1: Calculate Diurnal Averages for 'Dry Bulb Temperature'\n",
    "diurnal_averages_temp = df_shifted.groupby('Hour')['Dry Bulb Temperature'].mean()\n",
    "\n",
    "# Step 2: Print out the Diurnal Averages for 'Dry Bulb Temperature'\n",
    "print(\"Diurnal Averages for Dry Bulb Temperature:\")\n",
    "print(diurnal_averages_temp)\n",
    "\n",
    "# Step 3: Plot the Diurnal Averages for 'Dry Bulb Temperature'\n",
    "diurnal_averages_temp.plot(kind='line', figsize=(10, 6), title='Diurnal Averages for Dry Bulb Temperature')\n",
    "plt.xlabel('Hour of the Day')\n",
    "plt.ylabel('Average Temperature (°C)')\n",
    "plt.grid(True)\n",
    "plt.show()\n"
   ]
  },
  {
   "cell_type": "code",
   "execution_count": null,
   "metadata": {},
   "outputs": [],
   "source": [
    "Final_CRC = epw()\n",
    "Final_CRC.read('EPW_Files/Final_CRC.epw')\n",
    "CRC_df = Final_CRC.dataframe\n"
   ]
  },
  {
   "cell_type": "code",
   "execution_count": null,
   "metadata": {},
   "outputs": [],
   "source": [
    "CRC_df"
   ]
  },
  {
   "cell_type": "code",
   "execution_count": null,
   "metadata": {},
   "outputs": [],
   "source": [
    "import pandas as pd\n",
    "import matplotlib.pyplot as plt\n",
    "\n",
    "# Assuming 'epw_df' is your first EPW DataFrame and 'CRC_Data' is the second one\n",
    "# Both should have 'Hour' and 'Dry Bulb Temperature' columns\n",
    "\n",
    "# Step 1: Calculate Diurnal Averages for 'Dry Bulb Temperature' for both DataFrames\n",
    "diurnal_averages_epw = df_shifted.groupby('Hour')['Dry Bulb Temperature'].mean()\n",
    "diurnal_averages_crc = CRC_df.groupby('Hour')['Dry Bulb Temperature'].mean()\n",
    "\n",
    "# Step 2: Plot the Diurnal Averages for both DataFrames\n",
    "plt.figure(figsize=(10, 6))\n",
    "plt.plot(diurnal_averages_epw, label='EPW Data')\n",
    "plt.plot(diurnal_averages_crc, label='Reference Data', linestyle='--')\n",
    "\n",
    "# Step 3: Add titles and labels\n",
    "plt.title('Comparison of Diurnal Averages for Dry Bulb Temperature')\n",
    "plt.xlabel('Hour of the Day')\n",
    "plt.ylabel('Average Temperature (°C)')\n",
    "plt.legend()\n",
    "plt.grid(True)\n",
    "\n",
    "# Show the plot\n",
    "plt.show()\n"
   ]
  },
  {
   "cell_type": "code",
   "execution_count": null,
   "metadata": {},
   "outputs": [],
   "source": [
    "diurnal_averages_simulated = df_shifted.groupby('Hour')['Dry Bulb Temperature'].mean()\n",
    "diurnal_averages_original = CRC_df.groupby('Hour')['Dry Bulb Temperature'].mean()\n",
    "\n",
    "mae = (diurnal_averages_original - diurnal_averages_simulated).abs().mean()\n",
    "print(\"Mean Absolute Error (MAE):\", mae)\n"
   ]
  },
  {
   "cell_type": "code",
   "execution_count": null,
   "metadata": {},
   "outputs": [],
   "source": [
    "from uwg import UWG\n",
    "\n",
    "# Define the .epw path to create a UWG object.\n",
    "epw_path = \"EPW_Files/Final_CRC.epw\"\n",
    "\n",
    "# Initialize the UWG model\n",
    "model = UWG.from_param_args(epw_path=epw_path, bldheight=11, blddensity=0.0348, \n",
    "                            vertohor=0.8, charlength=125, sensanth=0.835,\n",
    "                            treecover=0.1209, grasscover=0.3628, vegstart=3, \n",
    "                            vegend=11, albveg=0.15, h_obs=3, \n",
    "                            h_ubl1=700, windmin=7.339,\n",
    "                            zone='7', nday=365)\n",
    "\n",
    "#Science Square\n",
    "#Building Density: 3.48%, 0.0348\n",
    "#Grass Cover: 36.28%, 0.3628\n",
    "#Tree Cover: 12.09%, 0.1209\n",
    "\n",
    "#Total Vegetation: 48.37%\n",
    "\n",
    "\n",
    "model.generate()\n",
    "model.simulate()\n",
    "\n",
    "# Write the simulation result to a file with a specified name.\n",
    "model.write_epw()\n"
   ]
  },
  {
   "cell_type": "code",
   "execution_count": null,
   "metadata": {},
   "outputs": [],
   "source": [
    "science_square = epw()\n",
    "science_square.read('EPW_Files/Final_CRC_UWG.epw')\n",
    "science_df = science_square.dataframe\n",
    "sciencedf = science_df.copy()"
   ]
  },
  {
   "cell_type": "code",
   "execution_count": null,
   "metadata": {},
   "outputs": [],
   "source": [
    "# Step 1: Reset index to move it to a column\n",
    "sciencedf = sciencedf.reset_index()\n",
    "\n",
    "# Step 2: Shift the DataFrame to the right by 1 column\n",
    "science_shifted = sciencedf.shift(1, axis=1)\n",
    "\n",
    "# Step 3: Drop the last column which is now full of NaNs\n",
    "science_shifted = science_shifted.iloc[:, :-1].drop(\"index\", axis = 1)"
   ]
  },
  {
   "cell_type": "code",
   "execution_count": null,
   "metadata": {},
   "outputs": [],
   "source": [
    "# Ensure 'DateTime' column exists in df_shifted\n",
    "if 'DateTime' not in df_shifted.columns:\n",
    "    df_shifted['DateTime'] = pd.to_datetime(df_shifted[['Year', 'Month', 'Day', 'Hour', 'Minute']])\n",
    "\n",
    "# Ensure 'DateTime' column exists in science_shifted\n",
    "if 'DateTime' not in science_shifted.columns:\n",
    "    science_shifted['DateTime'] = pd.to_datetime(science_shifted[['Year', 'Month', 'Day', 'Hour', 'Minute']])\n",
    "\n",
    "# Define the date to compare\n",
    "date_to_compare = pd.Timestamp('2023-04-06')\n",
    "\n",
    "# Filter the data for the specified date\n",
    "data_df_shifted = df_shifted[df_shifted['DateTime'].dt.date == date_to_compare.date()]\n",
    "data_science_shifted = science_shifted[science_shifted['DateTime'].dt.date == date_to_compare.date()]\n",
    "\n",
    "# Step 1: Calculate Diurnal Averages for 'Dry Bulb Temperature' for the specified date\n",
    "diurnal_averages_df_shifted = data_df_shifted.groupby(data_df_shifted['DateTime'].dt.hour)['Dry Bulb Temperature'].mean()\n",
    "diurnal_averages_science_shifted = data_science_shifted.groupby(data_science_shifted['DateTime'].dt.hour)['Dry Bulb Temperature'].mean()\n",
    "\n",
    "# Step 2: Plot the Diurnal Averages for both DataFrames\n",
    "plt.figure(figsize=(10, 6))\n",
    "\n",
    "plt.plot(diurnal_averages_df_shifted, label=f'Reference: {date_to_compare.date()}', color='red')\n",
    "plt.plot(diurnal_averages_science_shifted, label=f'Science Square: {date_to_compare.date()}', color='blue', linestyle='--')\n",
    "\n",
    "# Step 3: Add labels and title\n",
    "plt.xlabel('Hour of the Day')\n",
    "plt.ylabel('Average Temperature (°C)')\n",
    "plt.title(f'Comparison of Diurnal Averages on {date_to_compare.date()}')\n",
    "plt.legend()\n",
    "plt.grid(True)\n",
    "\n",
    "# Show the plot\n",
    "plt.show()\n"
   ]
  },
  {
   "cell_type": "code",
   "execution_count": null,
   "metadata": {},
   "outputs": [],
   "source": [
    "diurnal_averages_reference = df_shifted.groupby('Hour')['Dry Bulb Temperature'].mean()\n",
    "diurnal_averages_science = science_shifted.groupby('Hour')['Dry Bulb Temperature'].mean()\n",
    "\n",
    "mae = (diurnal_averages_reference - diurnal_averages_science).abs().mean()\n",
    "print(\"Mean Absolute Error (MAE):\", mae)\n"
   ]
  },
  {
   "cell_type": "code",
   "execution_count": null,
   "metadata": {},
   "outputs": [],
   "source": [
    "import pandas as pd\n",
    "import matplotlib.pyplot as plt\n",
    "\n",
    "# Ensure 'DateTime' column exists in df_shifted\n",
    "if 'DateTime' not in df_shifted.columns:\n",
    "    df_shifted['DateTime'] = pd.to_datetime(df_shifted[['Year', 'Month', 'Day', 'Hour', 'Minute']])\n",
    "\n",
    "# Ensure 'DateTime' column exists in science_df\n",
    "if 'DateTime' not in science_df.columns:\n",
    "    science_df['DateTime'] = pd.to_datetime(science_df[['Year', 'Month', 'Day', 'Hour', 'Minute']])\n",
    "\n",
    "# Define the date to compare\n",
    "date_to_compare = pd.Timestamp('2023-04-06')\n",
    "\n",
    "# Filter the data for the specified date\n",
    "data_df_shifted = df_shifted[df_shifted['DateTime'].dt.date == date_to_compare.date()]\n",
    "data_science_df = science_df[science_df['DateTime'].dt.date == date_to_compare.date()]\n",
    "\n",
    "# Create the plot\n",
    "plt.figure(figsize=(10, 10))\n",
    "\n",
    "# Plot the data for df_shifted with a solid line\n",
    "plt.plot(data_df_shifted['DateTime'].dt.hour + data_df_shifted['DateTime'].dt.minute / 60, \n",
    "         data_df_shifted['Dry Bulb Temperature'], \n",
    "         label=f'DF Shifted: {date_to_compare.date()}', color='red', linestyle='-')\n",
    "\n",
    "# Plot the data for science_df with a dashed line\n",
    "plt.plot(data_science_df['DateTime'].dt.hour + data_science_df['DateTime'].dt.minute / 60, \n",
    "         data_science_df['Dry Bulb Temperature'], \n",
    "         label=f'Science DF: {date_to_compare.date()}', color='blue', linestyle='--')\n",
    "\n",
    "# Add dots at x = 5, 10, 15, 20\n",
    "for x in range(0, 24, 5):\n",
    "    df_shifted_y = data_df_shifted.loc[data_df_shifted['DateTime'].dt.hour == x, 'Dry Bulb Temperature']\n",
    "    science_df_y = data_science_df.loc[data_science_df['DateTime'].dt.hour == x, 'Dry Bulb Temperature']\n",
    "    if not df_shifted_y.empty:\n",
    "        plt.plot(x, df_shifted_y.values[0], 'ro')  # Red dot for df_shifted\n",
    "    if not science_df_y.empty:\n",
    "        plt.plot(x, science_df_y.values[0], 'bo')  # Blue dot for science_df\n",
    "\n",
    "# Add labels and title\n",
    "plt.xlabel('Hour of the Day')\n",
    "plt.ylabel('Temperature (°C)')\n",
    "plt.title(f'Temperature Profiles on {date_to_compare.date()}')\n",
    "plt.legend()\n",
    "plt.grid(True)\n",
    "plt.show()\n"
   ]
  },
  {
   "cell_type": "code",
   "execution_count": null,
   "metadata": {},
   "outputs": [],
   "source": [
    "from uwg import UWG\n",
    "\n",
    "# Define the .epw path to create a UWG object.\n",
    "epw_path = \"science.epw\"\n",
    "\n",
    "# Initialize the UWG model\n",
    "model = UWG.from_param_args(epw_path=epw_path, bldheight=20, blddensity=0.2, \n",
    "                            vertohor=0.8, charlength=125, sensanth=0.835,\n",
    "                            treecover=0.2, grasscover=0.6, vegstart=3, \n",
    "                            vegend=11, albveg=0.15, h_obs=3, \n",
    "                            h_ubl1=700, windmin=7.339,\n",
    "                            zone='7', nday=365)\n",
    "\n",
    "#original sciencec square inputs\n",
    "#6.62 bld\n",
    "#73.81 veg\n",
    "#18.4525 tree\n",
    "#55.3575 grass\n",
    "\n",
    "#1st increment: 78.81: 0.5911 trees and 0.1970 grass and 0.0662\n",
    "#2nd increment: 83.81: 0.6286 trees and 0.2095 grass and 0.0662\n",
    "#3rd increment: 88.81: 0.6661 trees and 0.2220 grass and 0.0662\n",
    "\n",
    "\n",
    "model.generate()\n",
    "model.simulate()\n",
    "\n",
    "# Write the simulation result to a file with a specified name.\n",
    "model.write_epw()\n",
    "\n"
   ]
  },
  {
   "cell_type": "code",
   "execution_count": null,
   "metadata": {},
   "outputs": [],
   "source": [
    "from uwg import UWG\n",
    "\n",
    "# Define the .epw path to create a UWG object.\n",
    "epw_path = \"science2.epw\"\n",
    "\n",
    "# Initialize the UWG model\n",
    "model = UWG.from_param_args(epw_path=epw_path, bldheight=11, blddensity=0.0662, \n",
    "                            vertohor=0.8, charlength=125, sensanth=0.835,\n",
    "                            treecover=0.2095, grasscover=0.6286, vegstart=3, \n",
    "                            vegend=11, albveg=0.15, h_obs=3, \n",
    "                            h_ubl1=700, windmin=7.339,\n",
    "                            zone='7', nday=365)\n",
    "\n",
    "#original sciencec square inputs\n",
    "#6.62 bld\n",
    "#73.81 veg\n",
    "#18.4525 tree\n",
    "#55.3575 grass\n",
    "\n",
    "#1st increment: 78.81: 0.5911 trees and 0.1970 grass and 0.0662\n",
    "#2nd increment: 83.81: 0.6286 trees and 0.2095 grass and 0.0662\n",
    "#3rd increment: 88.81: 0.6661 trees and 0.2220 grass and 0.0662\n",
    "\n",
    "\n",
    "model.generate()\n",
    "model.simulate()\n",
    "\n",
    "# Write the simulation result to a file with a specified name.\n",
    "model.write_epw()\n",
    "\n"
   ]
  },
  {
   "cell_type": "code",
   "execution_count": null,
   "metadata": {},
   "outputs": [],
   "source": [
    "from uwg import UWG\n",
    "\n",
    "# Define the .epw path to create a UWG object.\n",
    "epw_path = \"science3.epw\"\n",
    "\n",
    "# Initialize the UWG model\n",
    "model = UWG.from_param_args(epw_path=epw_path, bldheight=11, blddensity=0.0662, \n",
    "                            vertohor=0.8, charlength=125, sensanth=0.835,\n",
    "                            treecover=0.222, grasscover=0.6661, vegstart=3, \n",
    "                            vegend=11, albveg=0.15, h_obs=3, \n",
    "                            h_ubl1=700, windmin=7.339,\n",
    "                            zone='7', nday=365)\n",
    "\n",
    "#original sciencec square inputs\n",
    "#6.62 bld\n",
    "#73.81 veg\n",
    "#18.4525 tree\n",
    "#55.3575 grass\n",
    "\n",
    "#1st increment: 78.81: 0.5911 trees and 0.1970 grass and 0.0662\n",
    "#2nd increment: 83.81: 0.6286 trees and 0.2095 grass and 0.0662\n",
    "#3rd increment: 88.81: 0.6661 trees and 0.2220 grass and 0.0662\n",
    "\n",
    "\n",
    "model.generate()\n",
    "model.simulate()\n",
    "\n",
    "# Write the simulation result to a file with a specified name.\n",
    "model.write_epw()\n",
    "\n"
   ]
  },
  {
   "cell_type": "code",
   "execution_count": null,
   "metadata": {},
   "outputs": [],
   "source": [
    "from epw import epw\n",
    "science1 = epw()\n",
    "science1.read('science_UWG.epw')\n",
    "science1df = science1.dataframe\n",
    "science1dfdf = science1df.copy()"
   ]
  },
  {
   "cell_type": "code",
   "execution_count": null,
   "metadata": {},
   "outputs": [],
   "source": [
    "science2 = epw()\n",
    "science2.read('science2_UWG.epw')\n",
    "science2df = science2.dataframe\n",
    "science2dfdf = science2df.copy()"
   ]
  },
  {
   "cell_type": "code",
   "execution_count": null,
   "metadata": {},
   "outputs": [],
   "source": [
    "science3 = epw()\n",
    "science3.read('science3_UWG.epw')\n",
    "science3df = science3.dataframe\n",
    "science3dfdf = science3df.copy()"
   ]
  },
  {
   "cell_type": "code",
   "execution_count": null,
   "metadata": {},
   "outputs": [],
   "source": []
  }
 ],
 "metadata": {
  "kernelspec": {
   "display_name": "Python 3",
   "language": "python",
   "name": "python3"
  },
  "language_info": {
   "codemirror_mode": {
    "name": "ipython",
    "version": 3
   },
   "file_extension": ".py",
   "mimetype": "text/x-python",
   "name": "python",
   "nbconvert_exporter": "python",
   "pygments_lexer": "ipython3",
   "version": "3.11.0"
  }
 },
 "nbformat": 4,
 "nbformat_minor": 2
}
